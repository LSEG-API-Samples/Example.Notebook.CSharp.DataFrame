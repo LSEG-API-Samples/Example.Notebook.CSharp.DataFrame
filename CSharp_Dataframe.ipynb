{
 "cells": [
  {
   "cell_type": "markdown",
   "metadata": {},
   "source": [
    "# Getting Started with C# DataFrame and Plotly.NET\n",
    "\n",
    "For the Python programming language, Pandas is an efficient and popular data analysis tool, especially its Dataframe, used to manipulate and display data. For the .NET programming languages, we can use [Deedle](https://www.nuget.org/packages/Deedle/) or [Microsoft.Data.Analysis](https://www.nuget.org/packages/Microsoft.Data.Analysis/) package available in [Nuget](https://www.nuget.org/) which also provides a DataFrame class used to manipulate, transform, and display data. \n",
    "\n",
    "\n",
    "This example focuses on [Microsoft.Data.Analysis](https://www.nuget.org/packages/Microsoft.Data.Analysis/) package by demonstrating some basic features of the DataFrame class in Jupyter Notebook. . \n",
    "\n",
    "\n",
    "It also uses the [Plotly.NET Interactive](https://www.nuget.org/packages/Plotly.NET.Interactive) package which is a .NET interactive kernel extension for displaying Plotly.NET charts to plot charts for the data in the Dataframe. \n",
    "\n",
    "## Prerequisite\n",
    "\n",
    "To run examples in this article, please refer to this [Using .NET on Jupyter Notebook or JupyterLab](https://developers.lseg.com/en/article-catalog/article/using--net-core-in-jupyter-notebook) article for setting up Jupyter Notebook or Jupyter Lab to support the .NET programming languages\n",
    "\n",
    "## Install the package\n",
    "\n",
    "All required packages are available on NuGet or the dotnet-interactive **#r** [magic command](https://github.com/dotnet/interactive/blob/main/docs/magic-commands.md) can be used to install the following packages from NuGet.  \n",
    "\n",
    "- [Microsoft.Data.Analysis](https://www.nuget.org/packages/Microsoft.Data.Analysis/) 0.22.1\n",
    "- [Plotly.NET.Interactive](https://www.nuget.org/packages/Plotly.NET.Interactive) 5.0.0\n",
    "- [Microsoft.DotNet.Interactive.Formatting](https://www.nuget.org/packages/Microsoft.DotNet.Interactive.Formatting) 1.0.0-beta.25070.1"
   ]
  },
  {
   "cell_type": "code",
   "execution_count": null,
   "metadata": {},
   "outputs": [],
   "source": [
    "#r \"nuget:Microsoft.Data.Analysis,0.22.1\"\n",
    "#r \"nuget: Plotly.NET.Interactive, 5.0.0\"\n",
    "#r \"nuget: Microsoft.DotNet.Interactive.Formatting, 1.0.0-beta.25070.1\""
   ]
  },
  {
   "cell_type": "markdown",
   "metadata": {},
   "source": [
    "## Refer the namespaces\n",
    "\n",
    "This article uses classes from the following four packages. Therefore, it uses the **using** statement to refer to those packages.\n",
    "\n",
    "- **Plotly.NET**: plotly.js charts in .NET programming languages  \n",
    "- **Microsoft.Data.Analysis**: An easy-to-use and high-performance libraries for data analysis and transformation\n",
    "- **System.Linq**: Classes and interfaces that support queries that use Language-Integrated Query\n",
    "- **Microsoft.DotNet.Interactive.Formatting**: Convention-based and highly configurable .NET object formatting for interactive programming\n",
    "- **System.Text**: StringBuilder"
   ]
  },
  {
   "cell_type": "code",
   "execution_count": null,
   "metadata": {},
   "outputs": [],
   "source": [
    "using Plotly.NET;\n",
    "using static Plotly.NET.StyleParam;\n",
    "using Plotly.NET.TraceObjects;\n",
    "using Microsoft.Data.Analysis;\n",
    "using System.Linq;\n",
    "using Microsoft.DotNet.Interactive.Formatting;\n",
    "using System.Text;"
   ]
  },
  {
   "cell_type": "markdown",
   "metadata": {},
   "source": [
    "## Render a DataFrame as an HTML table\n",
    "A DataFrame is rendered as an HTML table.\n",
    "\n",
    "![](dataframe_render1.jpg)\n",
    "\n",
    "However, the DataFrameRow and DataFrameColumn aren't rendered as a proper HTML table. \n",
    "\n",
    "This can be overridden by registering the custom formatter for the DataFrameRow and DataFrameColumn. The below code registers custom formatters for the **DataFrameRow** and **DataFrameColumn** to render the data in an HTML table. \n"
   ]
  },
  {
   "cell_type": "code",
   "execution_count": null,
   "metadata": {},
   "outputs": [],
   "source": [
    "Formatter.Register<DataFrameRow>(rows => \n",
    "{\n",
    "    StringBuilder sb = new StringBuilder(\"<table><tr>\");\n",
    "    foreach(var r in rows){\n",
    "        sb.Append($\"<td>{r}</td>\");\n",
    "    }    \n",
    "    \n",
    "    sb.Append(\"</tr></table>\");\n",
    "    return sb.ToString();\n",
    "}, \n",
    "    mimeType: \"text/html\");\n",
    "\n",
    "\n",
    "Formatter.Register<DataFrameColumn>(cols => \n",
    "{\n",
    "    StringBuilder sb = new StringBuilder(\"<table><tr>\");\n",
    "    sb.Append($\"<th><b>{cols.Name}</b></th></tr>\");\n",
    "    \n",
    "    foreach(var c in cols){\n",
    "        sb.Append($\"<tr><td>{c}</td></tr>\");        \n",
    "    }    \n",
    "    sb.Append(\"</table>\");\n",
    "    return sb.ToString();\n",
    "}, \n",
    "    mimeType: \"text/html\");"
   ]
  },
  {
   "cell_type": "markdown",
   "metadata": {},
   "source": [
    "## Create the DataFrame\n",
    "\n",
    "### DataFrameColumn\n",
    "\n",
    "A DataFrame can be created by passing the list of **DataFrameColumn** objects to the DataFrame's constructor. \n",
    "\n",
    "```\n",
    "public DataFrame(params DataFrameColumn[] columns);\n",
    "public DataFrame(IEnumerable<DataFrameColumn> columns);\n",
    "```\n",
    "\n",
    "The following code creates a DataFrame that has 200 rows and 2 columns. The first column contains dates and the second column contains random integer numbers. It calls the **PrimitiveDataFrameColumn<T>** constructor to create the **DataFrameColumn** instances.\n",
    "    "
   ]
  },
  {
   "cell_type": "code",
   "execution_count": null,
   "metadata": {},
   "outputs": [],
   "source": [
    "var start = new DateTime(2009,1,1);\n",
    "Random rand = new Random();\n",
    "var numDataPoint = 200;\n",
    "\n",
    "PrimitiveDataFrameColumn<DateTime> date = new PrimitiveDataFrameColumn<DateTime>(\"Date\", \n",
    "    Enumerable.Range(0, numDataPoint)\n",
    "          .Select(offset => start.AddDays(offset))\n",
    "          .ToList()); \n",
    "PrimitiveDataFrameColumn<int> data = new PrimitiveDataFrameColumn<int>(\"Data\", \n",
    "    Enumerable.Range(0, numDataPoint)\n",
    "                        .Select(r => rand.Next(100))\n",
    "                        .ToList()); \n",
    "var df = new DataFrame(date, data);\n",
    "df"
   ]
  },
  {
   "cell_type": "markdown",
   "metadata": {},
   "source": [
    "### CSV File\n",
    "\n",
    "The DataFrame can also be created from a CSV file by calling the **DataFrame.LoadCsv** static method. \n",
    "\n",
    "The following code creates a DataFrame from the ohcldata.csv file. This file is downloaded from [5.30. Example - Basic OHLC (Open, High, Low, Close) Financial Plot](http://phplot.sourceforge.net/phplotdocs/ex-ohlcbasic.html) website. This file contains the daily Open, High, Low, Close financial data.\n",
    "\n"
   ]
  },
  {
   "cell_type": "code",
   "execution_count": null,
   "metadata": {},
   "outputs": [],
   "source": [
    "var df1 = DataFrame.LoadCsv(\"ohlcdata.csv\");\n",
    "df1"
   ]
  },
  {
   "cell_type": "markdown",
   "metadata": {},
   "source": [
    "Then, the **Info** method can be used to generate a summary of each column in the DataFrame. "
   ]
  },
  {
   "cell_type": "code",
   "execution_count": null,
   "metadata": {},
   "outputs": [],
   "source": [
    "df1.Info()"
   ]
  },
  {
   "cell_type": "markdown",
   "metadata": {},
   "source": [
    "## Access the DataFrame\n",
    "\n",
    "### Access data by indices\n",
    "\n",
    "A row index and column index can be used to access the specific data in the DataFrame. The index is zero-based numbering.\n",
    "\n",
    "The below code access data in the first row and the second column.\n"
   ]
  },
  {
   "cell_type": "code",
   "execution_count": null,
   "metadata": {},
   "outputs": [],
   "source": [
    "df[0,1]"
   ]
  },
  {
   "cell_type": "markdown",
   "metadata": {},
   "source": [
    "After that, a new value can be assigned to the DataFrame.\n",
    "\n",
    "The below code increases the data in the first row and the second column by 10."
   ]
  },
  {
   "cell_type": "code",
   "execution_count": null,
   "metadata": {},
   "outputs": [],
   "source": [
    "df[0,1] = int.Parse(df[0,1].ToString()) + 10;\n",
    "df.Head(10)"
   ]
  },
  {
   "cell_type": "markdown",
   "metadata": {},
   "source": [
    "### Access row data\n",
    "The entire row can be accessed by using a row index. The index is zero-based numbering.\n",
    "\n",
    "The below code accesses the tenth row in the DataFrame."
   ]
  },
  {
   "cell_type": "code",
   "execution_count": null,
   "metadata": {},
   "outputs": [],
   "source": [
    "df1.Rows[9]"
   ]
  },
  {
   "cell_type": "markdown",
   "metadata": {},
   "source": [
    "The column index can also be used to access the specific column in the row.\n",
    "\n",
    "The below accesses the sixth column in the row."
   ]
  },
  {
   "cell_type": "code",
   "execution_count": null,
   "metadata": {},
   "outputs": [],
   "source": [
    "df1.Rows[9][5]"
   ]
  },
  {
   "cell_type": "markdown",
   "metadata": {},
   "source": [
    "Then, the new value can also be assigned to the column.\n",
    "\n",
    "The below code assigns 50000000 to the sixth column."
   ]
  },
  {
   "cell_type": "code",
   "execution_count": null,
   "metadata": {},
   "outputs": [],
   "source": [
    "df1.Rows[9][5] = 50000000f;\n",
    "df1.Head(10)"
   ]
  },
  {
   "cell_type": "markdown",
   "metadata": {},
   "source": [
    "### Access column data\n",
    "The entire column can be accessed by using a column name or index. The index is zero-based numbering.\n",
    "\n",
    "The below code accesses the column named **Data** (the second column) in the DataFrame."
   ]
  },
  {
   "cell_type": "code",
   "execution_count": null,
   "metadata": {},
   "outputs": [],
   "source": [
    "//df.Columns[\"Data\"] or df.Columns[1]\n",
    "df.Columns[\"Data\"]  "
   ]
  },
  {
   "cell_type": "markdown",
   "metadata": {},
   "source": [
    "The data in the column can be changed by using the DataFrame's overloaded operators. \n",
    "\n",
    "The below code increases all data in the column by ten.\n",
    "\n"
   ]
  },
  {
   "cell_type": "code",
   "execution_count": null,
   "metadata": {},
   "outputs": [],
   "source": [
    " df.Columns[\"Data\"]= df.Columns[\"Data\"]+10;\n",
    " df"
   ]
  },
  {
   "cell_type": "markdown",
   "metadata": {},
   "source": [
    "## Insert Data\n",
    "\n",
    "### Add a new column\n",
    "\n",
    "The DataFrame maintains a list of **DataFrameColumns** in the **DataFrameColumnCollection**. A new column can be added to the DataFrameColumnCollection. \n",
    "\n",
    "The below code adds a new integer column to the DataFrame. "
   ]
  },
  {
   "cell_type": "code",
   "execution_count": null,
   "metadata": {},
   "outputs": [],
   "source": [
    "df.Columns.Add(new PrimitiveDataFrameColumn<int>(\"Data1\", df.Rows.Count()));\n",
    "df"
   ]
  },
  {
   "cell_type": "markdown",
   "metadata": {},
   "source": [
    "The data in the new column is set to null. \n",
    "\n",
    "The following code fills null values in the new column (Data1) with 10."
   ]
  },
  {
   "cell_type": "code",
   "execution_count": null,
   "metadata": {},
   "outputs": [],
   "source": [
    "df.Columns[\"Data1\"].FillNulls(10, true);\n",
    "df"
   ]
  },
  {
   "cell_type": "markdown",
   "metadata": {},
   "source": [
    "## Append a new row\n",
    "\n",
    "The **Append** method can be used to append new rows to the DataFrame. \n",
    "\n",
    "The following code creates a list of **KeyValuePair** instances and then adds it to the DataFrame."
   ]
  },
  {
   "cell_type": "code",
   "execution_count": null,
   "metadata": {},
   "outputs": [],
   "source": [
    "df.Append(new List<KeyValuePair<string, object>>() { \n",
    "    new KeyValuePair<string, object>(\"Date\", DateTime.Now),\n",
    "    new KeyValuePair<string, object>(\"Data\", 12),\n",
    "    new KeyValuePair<string, object>(\"Data1\", 50)\n",
    "}, true);\n",
    "df.Tail(10)"
   ]
  },
  {
   "cell_type": "markdown",
   "metadata": {},
   "source": [
    "## Manipulate the DataFrame\n",
    "\n",
    "### Sort the DataFrame\n",
    "\n",
    "The **OrderBy** or **OrderByDescending** method can be used to order the DataFrame by a specified column. \n",
    "\n",
    "The following code sorts the DataFrame by the column named **Data**."
   ]
  },
  {
   "cell_type": "code",
   "execution_count": null,
   "metadata": {},
   "outputs": [],
   "source": [
    "df.OrderBy(\"Data\")"
   ]
  },
  {
   "cell_type": "markdown",
   "metadata": {},
   "source": [
    "### Group the DataFrame\n",
    "\n",
    "The **GroupBy** method can be used to group the rows of the DataFrame by unique values in the column.\n",
    "\n",
    "The following code groups the DataFrame by the column named Data and then counts the number of values in each group.\n"
   ]
  },
  {
   "cell_type": "code",
   "execution_count": null,
   "metadata": {},
   "outputs": [],
   "source": [
    "var groupByData = df.GroupBy(\"Data\");\n",
    "groupByData.Count().OrderBy(\"Data\")"
   ]
  },
  {
   "cell_type": "markdown",
   "metadata": {},
   "source": [
    "### Filter the DataFrame\n",
    "\n",
    "The **Filter** method can be used to filter the DataFrame by row indices or boolean values. \n",
    "\n",
    "The following code filters the DataFrame by returning rows that have the values in the column named **Data** greater than fifty."
   ]
  },
  {
   "cell_type": "code",
   "execution_count": null,
   "metadata": {},
   "outputs": [],
   "source": [
    "df.Filter(df.Columns[\"Data\"].ElementwiseGreaterThan(50))"
   ]
  },
  {
   "cell_type": "markdown",
   "metadata": {},
   "source": [
    "### Merge the DataFrame\n",
    "\n",
    "The **Merge** method can be used to merge two DataFrames with a database-style join. \n",
    "\n",
    "The following code joins two DataFrames by using the **Date** column contained in both DataFrames. First, it converts the data type in the **Date** column of the **df1** from the **string** type to the **DataTime** type. Then, it calls the **Merge** method to join the DataFrames. "
   ]
  },
  {
   "cell_type": "code",
   "execution_count": null,
   "metadata": {},
   "outputs": [],
   "source": [
    "var dateformat = \"M/d/yyyy hh:mm:ss tt\";\n",
    "df1.Columns[\"Date\"] = new PrimitiveDataFrameColumn<DateTime>(\"Date\", \n",
    "    df1.Columns[\"Date\"]\n",
    "                .Cast<object>()\n",
    "                .ToList()\n",
    "                .Select(x => DateTime.ParseExact(x.ToString(), dateformat, System.Globalization.CultureInfo.InvariantCulture))\n",
    "                .Cast<DateTime>()); \n",
    "                \n",
    "df1.Merge<DateTime>(df, \"Date\", \"Date\")"
   ]
  },
  {
   "cell_type": "markdown",
   "metadata": {},
   "source": [
    "## Plot charts by using Plotly.NET\n",
    "\n",
    "[Plotly.NET](https://plotly.net/) provides functions for generating and rendering plotly.js charts in .NET programming languages. It is based on [Plotly](https://plot.ly/) which is the popular JavaScript charting library.\n",
    "\n",
    "The following examples demonstrate how to use Plotly.NET to plot charts by using the data in the DataFrame. \n",
    "\n",
    "\n",
    "### Line chart\n",
    "\n",
    "The following code plots a line chart from the **Open** column in the DataFrame."
   ]
  },
  {
   "cell_type": "code",
   "execution_count": null,
   "metadata": {},
   "outputs": [],
   "source": [
    "Title title = Title.init(X:0.5, Text: \"Open Price Line Chart\");\n",
    "var dateData = df1.Columns[\"Date\"].Cast<DateTime>().ToArray();\n",
    "var openData = df1.Columns[\"Open\"].Cast<Single>().ToArray();\n",
    "\n",
    "var chart1 =  Chart2D.Chart.Line<DateTime, Single, bool>(dateData, openData, true)    \n",
    "    .WithSize(1000, 500)\n",
    "    .WithMarker(Marker.init(Size: 8))\n",
    "    .WithXAxisStyle(title: Title.init(Text:\"Date\"))\n",
    "    .WithYAxisStyle(title: Title.init(Text:\"Price (USD)\"))\n",
    "    .WithLayout(Layout.init<bool>(Title: title));\n",
    "chart1\n"
   ]
  },
  {
   "cell_type": "markdown",
   "metadata": {},
   "source": [
    "### Line Chart with Mulitple Lines\n",
    "\n",
    "The following code plots the **Open**, and **Close** columns in a line chart.\n"
   ]
  },
  {
   "cell_type": "code",
   "execution_count": null,
   "metadata": {},
   "outputs": [],
   "source": [
    "Title title = Title.init(X:0.5, Text: \"Open and Close Price Line Chart\");\n",
    "var dateData = df1.Columns[\"Date\"].Cast<DateTime>().ToArray();\n",
    "var openData = df1.Columns[\"Open\"].Cast<Single>().ToArray();\n",
    "var closeData = df1.Columns[\"Close\"].Cast<Single>();\n",
    "\n",
    "var multiChart = Chart.Combine(new [] {\n",
    "    Chart2D.Chart.Line<DateTime, Single, bool>(dateData, openData,true,Name: \"Open\")\n",
    "        .WithMarkerStyle(Symbol: StyleParam.MarkerSymbol.Square),\n",
    "    Chart2D.Chart.Line<DateTime, Single, bool>(dateData, closeData, true, Name: \"Close\")\n",
    "}).WithSize(1000, 500)\n",
    "    .WithMarker(Marker.init(Size: 8))\n",
    "    .WithXAxisStyle(title: Title.init(Text:\"Date\"))\n",
    "    .WithYAxisStyle(title: Title.init(Text:\"Price (USD)\"))\n",
    "    .WithLayout(Layout.init<bool>(Title: title));\n",
    "\n",
    "multiChart"
   ]
  },
  {
   "cell_type": "markdown",
   "metadata": {},
   "source": [
    "### Bar Chart\n",
    "\n",
    "The following code plots a bar chart from the **Volume** column in the DataFrame."
   ]
  },
  {
   "cell_type": "code",
   "execution_count": null,
   "metadata": {},
   "outputs": [],
   "source": [
    "Title title = Title.init(X:0.5, Text: \"Volume\");\n",
    "var dateData = df1.Columns[\"Date\"].Cast<DateTime>().ToArray();\n",
    "var volumeData = df1.Columns[\"Volume\"].Cast<Single>().ToArray();\n",
    "\n",
    "var columnChart = Chart2D.Chart.Column<Single, DateTime, bool, bool, bool>(volumeData, dateData)\n",
    "    .WithSize(1000, 500)\n",
    "    .WithXAxisStyle(title: Title.init(Text:\"Date\"))\n",
    "    .WithYAxisStyle(title: Title.init(Text:\"Unit\"))\n",
    "    .WithLayout(Layout.init<bool>(Title: title));\n",
    "columnChart"
   ]
  },
  {
   "cell_type": "markdown",
   "metadata": {},
   "source": [
    "### Candlestick Chart\n",
    "\n",
    "The following code plots a candlestick chart from the **Open**, **High**, **Low**, **Close** columns in the DataFrame."
   ]
  },
  {
   "cell_type": "code",
   "execution_count": null,
   "metadata": {},
   "outputs": [],
   "source": [
    "Title title = Title.init(X:0.5, Text: \"OHLC\");\n",
    "var dateData = df1.Columns[\"Date\"].Cast<DateTime>().ToArray();\n",
    "var openData = df1.Columns[\"Open\"].Cast<Single>().ToArray();\n",
    "var highData = df1.Columns[\"High\"].Cast<Single>().ToArray();\n",
    "var lowData = df1.Columns[\"Low\"].Cast<Single>().ToArray();\n",
    "var closeData = df1.Columns[\"Close\"].Cast<Single>().ToArray();\n",
    "\n",
    "var candleChart = Chart2D.Chart.Candlestick<Single, Single, Single, Single, DateTime, bool>(openData, highData, lowData, closeData, X:dateData)\n",
    "     .WithSize(1000, 500)\n",
    "     .WithXAxisStyle(title: Title.init(Text:\"Date\"))\n",
    "     .WithYAxisStyle(title: Title.init(Text:\"Price (USD)\"))\n",
    "     .WithLayout(Layout.init<bool>(Title: title));\n",
    "candleChart"
   ]
  },
  {
   "cell_type": "markdown",
   "metadata": {},
   "source": [
    "## References\n",
    "\n",
    "1. Phplot.sourceforge.net. n.d. 5.30. Example - Basic OHLC (Open, High, Low, Close) Financial Plot. [online] Available at: <http://phplot.sourceforge.net/phplotdocs/ex-ohlcbasic.html> [Accessed 6 May 2021].\n",
    "2. Bluemountaincapital.github.io. n.d. Deedle: Exploratory data library for .NET. [online] Available at: <https://bluemountaincapital.github.io/Deedle/> [Accessed 6 May 2021].\n",
    "3. Govindarajan, P., 2019. An Introduction to DataFrame | .NET Blog. [online] .NET Blog. Available at: <https://devblogs.microsoft.com/dotnet/an-introduction-to-dataframe/> [Accessed 6 May 2021].\n",
    "4. Sequeira, J., 2020. dotnet/interactive: Magic Commands. [online] GitHub. Available at: <https://github.com/dotnet/interactive/blob/main/docs/magic-commands.md> [Accessed 6 May 2021].\n",
    "5. Winnington, E., 2019. Eric Winnington - Tips and tricks for C# Jupyter notebook. [online] Ewinnington.github.io. Available at: <https://ewinnington.github.io/posts/jupyter-tips-csharp> [Accessed 6 May 2021].\n",
    "6. (No date) Plotly C# graphing library in Csharp. Available at: https://plotly.com/csharp/ (Accessed: 14 February 2025).\n",
    "7. Phuriphanvichai, J., 2021. Using .NET on Jupyter Notebook or JupyterLab | LSEG Developers. [online] Developers.lseg.com. Available at: https://developers.lseg.com/en/article-catalog/article/using--net-core-in-jupyter-notebook [Accessed 10 May 2021].\n",
    "\n"
   ]
  },
  {
   "cell_type": "code",
   "execution_count": null,
   "metadata": {},
   "outputs": [],
   "source": []
  }
 ],
 "metadata": {
  "kernelspec": {
   "display_name": ".NET (C#)",
   "language": "C#",
   "name": ".net-csharp"
  },
  "language_info": {
   "file_extension": ".cs",
   "mimetype": "text/x-csharp",
   "name": "C#",
   "pygments_lexer": "csharp",
   "version": "12.0"
  }
 },
 "nbformat": 4,
 "nbformat_minor": 4
}
